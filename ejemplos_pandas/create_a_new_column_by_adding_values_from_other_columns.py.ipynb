{
 "cells": [
  {
   "cell_type": "code",
   "execution_count": 1,
   "id": "6a0fdc13-cfdc-430c-9f8a-4e7afdfb3265",
   "metadata": {},
   "outputs": [
    {
     "name": "stdout",
     "output_type": "stream",
     "text": [
      "   A  B  C      D\n",
      "0  5  9  1  504.5\n",
      "1  1  6  9  103.0\n",
      "2  4  3  6  401.5\n",
      "3  0  8  1    4.0\n"
     ]
    }
   ],
   "source": [
    "import pandas as pd\n",
    "import numpy as np\n",
    "\n",
    "# add some columns\n",
    "df = pd.DataFrame(np.random.randint(0, 10, (4, 3)), columns=list(['A', 'B', 'C']))\n",
    "df['D'] = df['A'] + df['C']\n",
    "\n",
    "# add some columns\n",
    "df = pd.DataFrame(np.random.randint(0, 10, (4, 3)), columns=list(['A', 'B', 'C']))\n",
    "df['D'] = df[['A', 'C']].sum(axis=1)\n",
    "\n",
    "# add all the columns\n",
    "df = pd.DataFrame(np.random.randint(0, 10, (4, 3)), columns=list(['A', 'B', 'C']))\n",
    "df['D'] = df[list(df.columns)].sum(axis=1)\n",
    "\n",
    "# use lambda\n",
    "df = pd.DataFrame(np.random.randint(0, 10, (4, 3)), columns=list(['A', 'B', 'C']))\n",
    "df['D'] = df.apply(lambda x: x['A'] * 100 + x['B'] / 2, axis=1)\n",
    "print(df)\n",
    "\n",
    "#Este código crea un DataFrame de Pandas con valores aleatorios entre 0 y 10 en \n",
    "#3 columnas (A, B, C). \n",
    "#Luego, agrega una nueva columna 'D' que es la suma de las columnas A y C \n",
    "#en las dos primeras secciones. \n",
    "#En la tercera sección, agrega una nueva columna 'D' que es la suma de las columnas A y C, \n",
    "#pero utilizando una forma diferente de indexar las columnas. En la cuarta sección, \n",
    "#agrega una nueva columna 'D' que es la suma de todas las columnas en el DataFrame. \n",
    "#En la quinta sección, agrega una nueva columna 'D' que se calcula utilizando una función\n",
    "#lambda que multiplica la columna A por 100 y suma la mitad de la columna B a cada fila. \n",
    "#Finalmente, imprime el DataFrame resultante."
   ]
  },
  {
   "cell_type": "code",
   "execution_count": null,
   "id": "00baf312-a91f-4a0c-af41-30fa12b8c544",
   "metadata": {},
   "outputs": [],
   "source": []
  }
 ],
 "metadata": {
  "kernelspec": {
   "display_name": "Python 3 (ipykernel)",
   "language": "python",
   "name": "python3"
  },
  "language_info": {
   "codemirror_mode": {
    "name": "ipython",
    "version": 3
   },
   "file_extension": ".py",
   "mimetype": "text/x-python",
   "name": "python",
   "nbconvert_exporter": "python",
   "pygments_lexer": "ipython3",
   "version": "3.12.2"
  }
 },
 "nbformat": 4,
 "nbformat_minor": 5
}
