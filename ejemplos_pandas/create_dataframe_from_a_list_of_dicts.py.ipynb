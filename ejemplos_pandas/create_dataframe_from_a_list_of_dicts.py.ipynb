{
 "cells": [
  {
   "cell_type": "code",
   "execution_count": 1,
   "id": "b8fd2ac5-32cc-4881-b0d3-61bf88d4a496",
   "metadata": {},
   "outputs": [
    {
     "name": "stdout",
     "output_type": "stream",
     "text": [
      "         date weather\n",
      "0  2018-03-04  cloudy\n",
      "1  2018-03-05   sunny\n",
      "2  2018-03-06     NaN\n",
      "3  2018-03-07    rain\n"
     ]
    }
   ],
   "source": [
    "import pandas as pd\n",
    "\n",
    "list_of_dicts = [\n",
    "    {\n",
    "        'date': '2018-03-04',\n",
    "        'weather': 'cloudy'\n",
    "    },\n",
    "    {\n",
    "        'date': '2018-03-05',\n",
    "        'weather': 'sunny'\n",
    "    },\n",
    "    {\n",
    "        'date': '2018-03-06'\n",
    "    },\n",
    "    {\n",
    "        'date': '2018-03-07',\n",
    "        'weather': 'rain'\n",
    "    }\n",
    "]\n",
    "df = pd.DataFrame(list_of_dicts)\n",
    "print(df)"
   ]
  },
  {
   "cell_type": "code",
   "execution_count": null,
   "id": "3af1147e-cf4e-4c39-a1dc-c8cbeb4bfd7e",
   "metadata": {},
   "outputs": [],
   "source": []
  }
 ],
 "metadata": {
  "kernelspec": {
   "display_name": "Python 3 (ipykernel)",
   "language": "python",
   "name": "python3"
  },
  "language_info": {
   "codemirror_mode": {
    "name": "ipython",
    "version": 3
   },
   "file_extension": ".py",
   "mimetype": "text/x-python",
   "name": "python",
   "nbconvert_exporter": "python",
   "pygments_lexer": "ipython3",
   "version": "3.12.2"
  }
 },
 "nbformat": 4,
 "nbformat_minor": 5
}
