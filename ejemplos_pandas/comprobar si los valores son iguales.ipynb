{
 "cells": [
  {
   "cell_type": "code",
   "execution_count": 13,
   "id": "2b6abe87-e511-4663-af8d-9e642cbe8b0c",
   "metadata": {},
   "outputs": [],
   "source": [
    "import pandas as pd\n",
    "import io\n",
    "str_data = r\"\"\"\n",
    "date,weather\n",
    "2018-03-04,sunny\n",
    "2018-03-05,sunny\n",
    "2018-03-06,sunny\n",
    "\"\"\"\n",
    "df = pd.read_csv(io.StringIO(str_data))\n",
    "\n",
    "assert (df['weather'] == 'sunny').all(), \"Values are not the same in the column\""
   ]
  },
  {
   "cell_type": "code",
   "execution_count": null,
   "id": "f6449ce1-77e0-4352-a12a-b44c75595c8d",
   "metadata": {},
   "outputs": [],
   "source": []
  }
 ],
 "metadata": {
  "kernelspec": {
   "display_name": "Python 3 (ipykernel)",
   "language": "python",
   "name": "python3"
  },
  "language_info": {
   "codemirror_mode": {
    "name": "ipython",
    "version": 3
   },
   "file_extension": ".py",
   "mimetype": "text/x-python",
   "name": "python",
   "nbconvert_exporter": "python",
   "pygments_lexer": "ipython3",
   "version": "3.12.2"
  }
 },
 "nbformat": 4,
 "nbformat_minor": 5
}
