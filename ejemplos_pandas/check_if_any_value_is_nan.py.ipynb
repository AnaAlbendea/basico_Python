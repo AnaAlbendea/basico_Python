{
 "cells": [
  {
   "cell_type": "code",
   "execution_count": 2,
   "id": "7f78727c-e359-4e3d-b98b-fe95305acccd",
   "metadata": {},
   "outputs": [
    {
     "name": "stdout",
     "output_type": "stream",
     "text": [
      "date       False\n",
      "weather     True\n",
      "city       False\n",
      "dtype: bool\n",
      "True\n"
     ]
    }
   ],
   "source": [
    "import pandas as pd\n",
    "import io\n",
    "\n",
    "str_data = r\"\"\"\n",
    "date,weather,city\n",
    "2018-03-04,sunny,sydney \n",
    "2018-03-05,nan,melbourne\n",
    "2018-03-06,rain,perth\n",
    "\"\"\"\n",
    "df = pd.read_csv(io.StringIO(str_data))\n",
    "\n",
    "print(df.isnull().any())\n",
    "print(df['weather'].isnull().any())\n",
    "\n",
    "df.iloc[1, 1] = 'cloudy'\n",
    "assert not (df.isnull().any().any()), \"No value should be missing\""
   ]
  },
  {
   "cell_type": "code",
   "execution_count": null,
   "id": "b242d4e3-ac35-4af0-9a44-bd4665112b1d",
   "metadata": {},
   "outputs": [],
   "source": []
  }
 ],
 "metadata": {
  "kernelspec": {
   "display_name": "Python 3 (ipykernel)",
   "language": "python",
   "name": "python3"
  },
  "language_info": {
   "codemirror_mode": {
    "name": "ipython",
    "version": 3
   },
   "file_extension": ".py",
   "mimetype": "text/x-python",
   "name": "python",
   "nbconvert_exporter": "python",
   "pygments_lexer": "ipython3",
   "version": "3.12.2"
  }
 },
 "nbformat": 4,
 "nbformat_minor": 5
}
