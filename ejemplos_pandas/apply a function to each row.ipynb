{
 "cells": [
  {
   "cell_type": "code",
   "execution_count": 9,
   "id": "e1730be6-9429-473c-9d49-1ffe52522963",
   "metadata": {},
   "outputs": [
    {
     "name": "stdout",
     "output_type": "stream",
     "text": [
      "       city state\n",
      "0    Sydney   NSW\n",
      "1  Brisbane   QLD\n",
      "2     Perth    SA\n"
     ]
    }
   ],
   "source": [
    "import pandas as pd\n",
    "\n",
    "city = r\"\"\"city,state\n",
    "sydney,nsw\n",
    "brisbane,qld\n",
    "perth,sa\n",
    "\"\"\"\n",
    "\n",
    "df = pd.read_csv(io.StringIO(city))\n",
    "\n",
    "df['state'] = df['state'].apply(lambda x: x.upper())\n",
    "df['city'] = df['city'].apply(lambda x: x.title())\n",
    "print(df)"
   ]
  },
  {
   "cell_type": "code",
   "execution_count": null,
   "id": "73f965dd-527c-4a98-8693-8d5d81873eca",
   "metadata": {},
   "outputs": [],
   "source": []
  },
  {
   "cell_type": "code",
   "execution_count": 4,
   "id": "16106ba1-10f2-4ab1-98e3-02d1599503ac",
   "metadata": {},
   "outputs": [
    {
     "name": "stdout",
     "output_type": "stream",
     "text": [
      "         date weather\n",
      "0  2018-03-04  cloudy\n",
      "1  2018-03-05   sunny\n",
      "2  2018-03-06     NaN\n",
      "3  2018-03-07    rain\n"
     ]
    }
   ],
   "source": [
    "import pandas as pd\n",
    "\n",
    "list_of_dicts = [\n",
    "    {\n",
    "        'date': '2018-03-04',\n",
    "        'weather': 'cloudy'\n",
    "    },\n",
    "    {\n",
    "        'date': '2018-03-05',\n",
    "        'weather': 'sunny'\n",
    "    },\n",
    "    {\n",
    "        'date': '2018-03-06'\n",
    "    },\n",
    "    {\n",
    "        'date': '2018-03-07',\n",
    "        'weather': 'rain'\n",
    "    }\n",
    "]\n",
    "df = pd.DataFrame(list_of_dicts)\n",
    "print(df)"
   ]
  },
  {
   "cell_type": "code",
   "execution_count": 8,
   "id": "3c35b2aa-26be-426e-8d68-e50b17882d6e",
   "metadata": {},
   "outputs": [
    {
     "name": "stdout",
     "output_type": "stream",
     "text": [
      "         date  weather\n",
      "0  2018-03-04   cloudy\n",
      "1  2018-03-05    sunny\n",
      "2  2018-03-06     rain\n"
     ]
    }
   ],
   "source": [
    "import pandas as pd\n",
    "import io \n",
    "str_data = r\"\"\"\n",
    "date, weather\n",
    "2018-03-04, cloudy\n",
    "2018-03-05, sunny\n",
    "2018-03-06, rain\n",
    "\"\"\"\n",
    "\n",
    "df = pd.read_csv(io.StringIO(str_data))\n",
    "print(df)"
   ]
  },
  {
   "cell_type": "code",
   "execution_count": 5,
   "id": "bc5cd062-d681-48c0-b499-eab4ea778533",
   "metadata": {},
   "outputs": [
    {
     "name": "stdout",
     "output_type": "stream",
     "text": [
      "      product  price Is Apple\n",
      "0  au-apple-1  2.500        Y\n",
      "1  au-apple-2  5.356        Y\n",
      "2  au-peach-1  4.990        N\n",
      "3  au-peach-2  3.990        N\n",
      "4  au-grape-2  3.990        N\n"
     ]
    }
   ],
   "source": [
    "import pandas as pd\n",
    "\n",
    "fruit_price = r\"\"\"product,price\n",
    "au-apple-1,2.5\n",
    "au-apple-2,5.356\n",
    "au-peach-1,4.99\n",
    "au-peach-2,3.99\n",
    "au-grape-2,3.99\n",
    "\"\"\"\n",
    "\n",
    "df = pd.read_csv(io.StringIO(fruit_price))\n",
    "df['Is Apple'] = df['product'].apply(lambda x: 'Y' if 'apple' in x else 'N')\n",
    "\n",
    "print(df)"
   ]
  },
  {
   "cell_type": "code",
   "execution_count": 8,
   "id": "bda2e2fc-cc97-4f3c-b7d4-fe8d5a52db71",
   "metadata": {},
   "outputs": [
    {
     "name": "stdout",
     "output_type": "stream",
     "text": [
      "            numeric_col_1 non-numeric_col  numeric_col_2\n",
      "date                                                    \n",
      "2018-06-10            0.0             NaN            NaN\n",
      "2018-06-11            1.0             NaN            1.0\n",
      "2018-06-12            NaN               a            2.0\n",
      "2018-06-13            3.0               b            NaN\n",
      "2018-06-14            NaN               x            3.0\n",
      "2018-06-15            NaN               c            5.0\n",
      "2018-06-16            6.0               d            7.0\n",
      "            numeric_col_1  numeric_col_2\n",
      "date                                    \n",
      "2018-06-10            0.0            NaN\n",
      "2018-06-11            1.0            1.0\n",
      "2018-06-12            NaN            2.0\n",
      "2018-06-13            3.0            NaN\n",
      "2018-06-14            NaN            3.0\n",
      "2018-06-15            NaN            5.0\n",
      "2018-06-16            6.0            7.0\n",
      "            numeric_col_1  numeric_col_2\n",
      "date                                    \n",
      "2018-06-10            0.0            NaN\n",
      "2018-06-11            1.0            1.0\n",
      "2018-06-12            NaN            2.0\n",
      "2018-06-13            3.0            NaN\n",
      "2018-06-14            NaN            3.0\n",
      "2018-06-15            NaN            5.0\n",
      "2018-06-16            6.0            7.0\n"
     ]
    }
   ],
   "source": [
    "import pandas as pd\n",
    "import numpy as np\n",
    "from pandas.testing import assert_frame_equal\n",
    "import io\n",
    "\n",
    "data = r\"\"\"date,numeric_col_1,non-numeric_col,numeric_col_2\n",
    "2018-06-10,0,NaN,NaN\n",
    "2018-06-11,1,NaN,1\n",
    "2018-06-12,NaN,a,2\n",
    "2018-06-13,3,b,NaN\n",
    "2018-06-14,NaN,x,3\n",
    "2018-06-15,NaN,c,5\n",
    "2018-06-16,6,d,7\n",
    "\"\"\"\n",
    "\n",
    "df = pd.read_csv(\n",
    "    io.StringIO(data),\n",
    "    index_col=['date'],\n",
    "    parse_dates=True,\n",
    "    \n",
    ")\n",
    "assert isinstance(df.index, pd.core.indexes.datetimes.DatetimeIndex)\n",
    "print(df)\n",
    "\n",
    "df_copy = df.copy()\n",
    "\n",
    "# use private method\n",
    "df = df._get_numeric_data()\n",
    "print(df)\n",
    "\n",
    "# use select_dtypes\n",
    "df_copy = df_copy.select_dtypes([np.number])\n",
    "print(df_copy)\n",
    "\n",
    "assert_frame_equal(df, df_copy)"
   ]
  },
  {
   "cell_type": "code",
   "execution_count": null,
   "id": "e737b965-8db1-4f59-9d2a-cfab236476c0",
   "metadata": {},
   "outputs": [],
   "source": []
  },
  {
   "cell_type": "code",
   "execution_count": null,
   "id": "bf9d4751-320d-4a73-8b14-e466835a401f",
   "metadata": {},
   "outputs": [],
   "source": []
  }
 ],
 "metadata": {
  "kernelspec": {
   "display_name": "Python 3 (ipykernel)",
   "language": "python",
   "name": "python3"
  },
  "language_info": {
   "codemirror_mode": {
    "name": "ipython",
    "version": 3
   },
   "file_extension": ".py",
   "mimetype": "text/x-python",
   "name": "python",
   "nbconvert_exporter": "python",
   "pygments_lexer": "ipython3",
   "version": "3.12.2"
  }
 },
 "nbformat": 4,
 "nbformat_minor": 5
}
