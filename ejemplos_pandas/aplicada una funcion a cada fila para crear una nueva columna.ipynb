{
 "cells": [
  {
   "cell_type": "code",
   "execution_count": 3,
   "id": "e3800050-f1ef-4369-be02-c884e2858f90",
   "metadata": {},
   "outputs": [
    {
     "name": "stdout",
     "output_type": "stream",
     "text": [
      "     name  price         label\n",
      "0  banana  2.500  Banana $2.50\n",
      "1   grape  5.356   Grape $5.36\n",
      "2   apple  4.990   Apple $4.99\n"
     ]
    }
   ],
   "source": [
    "import pandas as pd\n",
    "from decimal import Decimal\n",
    "import io \n",
    "\"\"\"\n",
    "Apply a function to each row of a DataFrame to create a new column\n",
    "\n",
    "\"\"\"\n",
    "\n",
    "\n",
    "def create_price_label(row):\n",
    "    price = Decimal(row['price'])\n",
    "    price = round(price, 2)\n",
    "    return row['name'].title() + \" $\" + str(price)\n",
    "\n",
    "\n",
    "fruit_price = r\"\"\"name,price\n",
    "banana,2.5\n",
    "grape,5.356\n",
    "apple,4.99\n",
    "\"\"\"\n",
    "\n",
    "df = pd.read_csv(io.StringIO(fruit_price))\n",
    "df['label'] = df.apply(create_price_label, axis=1)\n",
    "\n",
    "print(df)"
   ]
  },
  {
   "cell_type": "code",
   "execution_count": null,
   "id": "f7e3d9a6-fb74-40f0-b4a1-77ae785007de",
   "metadata": {},
   "outputs": [],
   "source": []
  }
 ],
 "metadata": {
  "kernelspec": {
   "display_name": "Python 3 (ipykernel)",
   "language": "python",
   "name": "python3"
  },
  "language_info": {
   "codemirror_mode": {
    "name": "ipython",
    "version": 3
   },
   "file_extension": ".py",
   "mimetype": "text/x-python",
   "name": "python",
   "nbconvert_exporter": "python",
   "pygments_lexer": "ipython3",
   "version": "3.12.2"
  }
 },
 "nbformat": 4,
 "nbformat_minor": 5
}
